{
 "cells": [
  {
   "cell_type": "code",
   "execution_count": 2,
   "metadata": {},
   "outputs": [
    {
     "name": "stderr",
     "output_type": "stream",
     "text": [
      "/Library/Frameworks/Python.framework/Versions/3.12/lib/python3.12/site-packages/torch/utils/_pytree.py:185: FutureWarning: optree is installed but the version is too old to support PyTorch Dynamo in C++ pytree. C++ pytree support is disabled. Please consider upgrading optree using `python3 -m pip install --upgrade 'optree>=0.13.0'`.\n",
      "  warnings.warn(\n"
     ]
    }
   ],
   "source": [
    "import gym\n",
    "import torch.nn as nn\n",
    "import torch.optim as optim\n",
    "import numpy as np"
   ]
  },
  {
   "cell_type": "code",
   "execution_count": 14,
   "metadata": {},
   "outputs": [],
   "source": [
    "def generate_action(state):\n",
    "    # random choice from LEFT/RIGHT for now\n",
    "    # TODO: 1) reduce dimensionality of state\n",
    "    # 2) encode state into spatial and frequency info\n",
    "    # 3) use MCS library to send corresponding signal\n",
    "    # 4) after some DELAY, read motor region electrodes signal\n",
    "    # 5) use spike counting/other preprocessing to obtain most active action region, return this action\n",
    "    # 6) some TIMEOUT for sensory + motor neurons' refractory period\n",
    "    return np.random.choice([0, 1])\n",
    "def send_reward(reward):\n",
    "    return\n",
    "    # TODO: 1) if reward < THRESHOLD, use MCS library to send random signals as punish\n",
    "    # 2) else reward\n",
    "    # 3) have a TIMEOUT for neurons' refractory period\n",
    "    # print(\"raw reward sent is: \" + str(reward))"
   ]
  },
  {
   "cell_type": "code",
   "execution_count": 3,
   "metadata": {},
   "outputs": [
    {
     "ename": "NameError",
     "evalue": "name 'generate_action' is not defined",
     "output_type": "error",
     "traceback": [
      "\u001b[0;31m---------------------------------------------------------------------------\u001b[0m",
      "\u001b[0;31mNameError\u001b[0m                                 Traceback (most recent call last)",
      "Cell \u001b[0;32mIn[3], line 20\u001b[0m\n\u001b[1;32m     18\u001b[0m                    \u001b[39mprint\u001b[39m(\u001b[39mf\u001b[39m\u001b[39m\"\u001b[39m\u001b[39mepisode: \u001b[39m\u001b[39m{\u001b[39;00me\u001b[39m}\u001b[39;00m\u001b[39m/\u001b[39m\u001b[39m{\u001b[39;00mepisodes\u001b[39m}\u001b[39;00m\u001b[39m, score: \u001b[39m\u001b[39m{\u001b[39;00mscore\u001b[39m}\u001b[39;00m\u001b[39m, reward: \u001b[39m\u001b[39m{\u001b[39;00mreward\u001b[39m}\u001b[39;00m\u001b[39m\"\u001b[39m)\n\u001b[1;32m     19\u001b[0m \u001b[39mif\u001b[39;00m \u001b[39m__name__\u001b[39m \u001b[39m==\u001b[39m \u001b[39m\"\u001b[39m\u001b[39m__main__\u001b[39m\u001b[39m\"\u001b[39m:\n\u001b[0;32m---> 20\u001b[0m    main()\n",
      "Cell \u001b[0;32mIn[3], line 11\u001b[0m, in \u001b[0;36mmain\u001b[0;34m()\u001b[0m\n\u001b[1;32m      9\u001b[0m done, score \u001b[39m=\u001b[39m \u001b[39mFalse\u001b[39;00m, \u001b[39m0\u001b[39m\n\u001b[1;32m     10\u001b[0m \u001b[39mwhile\u001b[39;00m \u001b[39mnot\u001b[39;00m done:\n\u001b[0;32m---> 11\u001b[0m     action \u001b[39m=\u001b[39m generate_action(state)\n\u001b[1;32m     12\u001b[0m     state, reward, done, _, __ \u001b[39m=\u001b[39m env\u001b[39m.\u001b[39mstep(action)\n\u001b[1;32m     13\u001b[0m     send_reward(reward)\n",
      "\u001b[0;31mNameError\u001b[0m: name 'generate_action' is not defined"
     ]
    }
   ],
   "source": [
    " def main():\n",
    "    env = gym.make('CartPole-v1')\n",
    "    action_size = 2\n",
    "    episodes = 100\n",
    "    scores = []\n",
    "    for e in range(episodes):\n",
    "        state, _ = env.reset()\n",
    "        # state = np.reshape(state, [1, *state_size])\n",
    "        done, score = False, 0\n",
    "        while not done:\n",
    "            action = generate_action(state)\n",
    "            state, reward, done, _, __ = env.step(action)\n",
    "            send_reward(reward)\n",
    "            score += reward\n",
    "            if done:\n",
    "                scores.append(score)\n",
    "                if not e % 10: \n",
    "                    print(f\"episode: {e}/{episodes}, score: {score}, reward: {reward}\")\n",
    "if __name__ == \"__main__\":\n",
    "    main()"
   ]
  },
  {
   "cell_type": "code",
   "execution_count": 16,
   "metadata": {},
   "outputs": [],
   "source": [
    "# import torch\n",
    "# import numpy as np\n",
    "\n",
    "# def preprocess(state):\n",
    "#     if type(state) == np.ndarray:\n",
    "#         state = torch.from_numpy(state).float()\n",
    "#     elif type(state) == torch.Tensor:\n",
    "#         state = state.float()\n",
    "#     return state"
   ]
  },
  {
   "cell_type": "code",
   "execution_count": 17,
   "metadata": {},
   "outputs": [],
   "source": [
    "# import torch.nn as nn\n",
    "\n",
    "# class Q_Net_linear(nn.Module):\n",
    "\n",
    "#     def __init__(self, num_actions):\n",
    "#         super(Q_Net_linear, self).__init__()\n",
    "#         self.relu = nn.ReLU()\n",
    "#         self.input_layer = nn.Linear(210*160, 2048*8)\n",
    "#         self.hidden1 = nn.Linear(2048*8, 2048)\n",
    "#         self.hidden2 = nn.Linear(2048, 512)\n",
    "#         self.hidden3 = nn.Linear(512, 128)\n",
    "#         self.output_layer = nn.Linear(128, num_actions)\n",
    "\n",
    "#     def forward(self, x):\n",
    "#         x = x.flatten(start_dim=1)\n",
    "#         x = self.relu(self.input_layer(x))\n",
    "#         x = self.relu(self.hidden1(x))\n",
    "#         x = self.relu(self.hidden2(x))\n",
    "#         x = self.relu(self.hidden3(x))\n",
    "#         x = self.output_layer(x)\n",
    "#         return x"
   ]
  },
  {
   "cell_type": "code",
   "execution_count": 18,
   "metadata": {},
   "outputs": [],
   "source": [
    "# num_actions = 2\n",
    "# model = Q_Net_linear(num_actions)\n",
    "# target_model = Q_Net_linear(num_actions)\n",
    "# target_model.load_state_dict(model.state_dict())"
   ]
  },
  {
   "cell_type": "code",
   "execution_count": 19,
   "metadata": {},
   "outputs": [],
   "source": [
    "# #initialize the memory buffer\n",
    "# batch_size = 32\n",
    "# buffer = Buffer(batch_size)\n",
    "\n",
    "# num_episodes = 100\n",
    "# #hyperparams, optimizer and loss function\n",
    "# optimizer = optim.Adam(model.parameters(), lr=.001) #hyperparam could do with tuning\n",
    "# loss_fn = nn.MSELoss()\n",
    "# epsilon = 0.6 #another hyperparam that could be tuned\n",
    "# gamma = 0.95 #another hyperparam that could be tuned\n",
    "# target_update = 50\n",
    "\n",
    "# #initialize the agent(who selects our actions for us)\n",
    "# agent = Agent(model, num_actions, epsilon)"
   ]
  },
  {
   "cell_type": "code",
   "execution_count": 20,
   "metadata": {},
   "outputs": [],
   "source": [
    "# import random\n",
    "\n",
    "# class Buffer():\n",
    "\n",
    "#     def __init__(self, batch_size,max_size=10000):\n",
    "#         self.mem = []\n",
    "#         self.added = 0\n",
    "#         self.max_size = max_size\n",
    "#         self.batch_size = batch_size\n",
    "\n",
    "#     def add_item(self, state, action, new_state, reward):\n",
    "#         item = (state.unsqueeze(0), action, new_state.unsqueeze(0), reward)\n",
    "#         if self.added < self.max_size:\n",
    "#             self.mem.append(item)\n",
    "#         else:\n",
    "#             self.mem[self.added % self.max_size] = item\n",
    "#         self.added += 1\n",
    "\n",
    "#     def sample_from_memory(self):\n",
    "#         return random.sample(self.mem, self.batch_size)\n",
    "\n",
    "# import numpy as np\n",
    "# import torch\n",
    "\n",
    "# class Agent():\n",
    "\n",
    "#     def __init__(self, model, num_actions, epsilon):\n",
    "#         self.model = model\n",
    "#         self.num_actions = num_actions\n",
    "#         self.epsilon = epsilon\n",
    "#         self.choices_made = 0\n",
    "\n",
    "\n",
    "#     def choose_action(self, state):\n",
    "#         self.choices_made += 1\n",
    "#         if self.choices_made % 100 == 0:  # cut down the exploration rate as the model is trained more\n",
    "#             self.epsilon /= 1.05\n",
    "#         if np.random.random() < self.epsilon:\n",
    "#             action = np.random.randint(self.num_actions)\n",
    "#             return torch.tensor([action])\n",
    "#         else:\n",
    "#             action = torch.argmax(self.model(state.unsqueeze(0)))\n",
    "#             return action.unsqueeze(0)"
   ]
  },
  {
   "cell_type": "code",
   "execution_count": 21,
   "metadata": {},
   "outputs": [],
   "source": [
    "# print(f\"Starting training for {num_episodes} episodes\")\n",
    "# env = gym.make('CartPole-v1')\n",
    "# env.reset(seed=42) #need to set with a seed once for deterministic behaviour ig?\n",
    "# for episode in range(num_episodes): #train for 1000 episodes??\n",
    "#     state, _ = env.reset()\n",
    "#     steps = 0\n",
    "#     total_reward = 0\n",
    "#     while True:\n",
    "#         steps += 1\n",
    "#         state = preprocess(state)\n",
    "#         action = agent.choose_action(state)\n",
    "#         observation, reward, done, truncated, info = env.step(action.item())\n",
    "#         total_reward += reward\n",
    "#         new_state = preprocess(observation)\n",
    "#         reward = torch.tensor([reward])\n",
    "#         buffer.add_item(state, action, new_state, reward)\n",
    "#         if buffer.added >= batch_size: #this is where we do the network updating\n",
    "#             batch = buffer.sample_from_memory() #the next few lines are just for making batches\n",
    "#             batch = list(zip(*batch))\n",
    "#             states = torch.cat(batch[0], 0)\n",
    "#             actions = torch.cat(batch[1], 0).unsqueeze(0).transpose(0, 1)\n",
    "#             new_states = torch.cat(batch[2], 0)\n",
    "#             rewards = torch.cat(batch[3], 0).unsqueeze(0).transpose(0, 1)\n",
    "#             curr_q = model(states).gather(1, actions) #model updating is happening\n",
    "#             target_output = target_model(new_states)\n",
    "#             expected_q = rewards + (gamma * target_output)\n",
    "#             expected_q = expected_q.unsqueeze(1)\n",
    "#             loss = loss_fn(curr_q, expected_q)\n",
    "#             optimizer.zero_grad()\n",
    "#             loss.backward()\n",
    "#             for param in model.parameters(): #whatever tf clamp does\n",
    "#                 if param.grad is not None:\n",
    "#                     param.grad.data.clamp_(-1, 1)\n",
    "#             optimizer.step()\n",
    "#         if done: #if the episode is complete\n",
    "#             break\n",
    "#     if (num_episodes <= 10) or (episode % (num_episodes // 50)  == 0):\n",
    "#         print(f\"\\tEpisode {episode} completed in {steps} steps with total reward: {total_reward}\\n\")\n",
    "#     if episode % target_update == 0:\n",
    "#         target_model.load_state_dict(model.state_dict())\n",
    "\n",
    "# print(\"Training finished\")"
   ]
  },
  {
   "cell_type": "code",
   "execution_count": null,
   "metadata": {},
   "outputs": [],
   "source": []
  }
 ],
 "metadata": {
  "kernelspec": {
   "display_name": "Python 3 (ipykernel)",
   "language": "python",
   "name": "python3"
  },
  "language_info": {
   "codemirror_mode": {
    "name": "ipython",
    "version": 3
   },
   "file_extension": ".py",
   "mimetype": "text/x-python",
   "name": "python",
   "nbconvert_exporter": "python",
   "pygments_lexer": "ipython3",
   "version": "3.12.1"
  }
 },
 "nbformat": 4,
 "nbformat_minor": 4
}
