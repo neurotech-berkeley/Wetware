{
 "cells": [
  {
   "cell_type": "code",
   "execution_count": 4,
   "metadata": {},
   "outputs": [],
   "source": [
    "import gym\n",
    "from gym.spaces import Discrete\n",
    "import torch.nn as nn\n",
    "import torch.optim as optim\n",
    "import numpy as np\n",
    "import socket"
   ]
  },
  {
   "cell_type": "code",
   "execution_count": 2,
   "metadata": {},
   "outputs": [],
   "source": [
    "class OpenAIGymAPI:\n",
    "    \n",
    "    def __init__(self, main_instance=None):\n",
    "        self.env = 'CartPole-v1'\n",
    "        self.state = None\n",
    "        self.total_reward = 0\n",
    "        self.main_instance = main_instance\n",
    "\n",
    "    def initialize_training(self):\n",
    "        self.state = self.env.reset()\n",
    "        return self.state\n",
    "    \n",
    "    def run_episodes(self, num_episodes):\n",
    "        rewards = []\n",
    "\n",
    "        for episode in range(num_episodes):\n",
    "            print(f\"Running episode {episode + 1}...\")\n",
    "            episode_reward = self.run_episode()\n",
    "            rewards.append(episode_reward)\n",
    "        print(f\"Finished running {num_episodes} episodes.\")\n",
    "        return rewards\n",
    "\n",
    "    def run_episode(self):\n",
    "        self.state = self.initialize_training()\n",
    "        terminated = False\n",
    "\n",
    "        while not terminated:\n",
    "            pole_angle = self.state[2]\n",
    "            action = self.main_instance.get_action_from_neurons(pole_angle)\n",
    "            next_state, reward, terminated, info = self.env.step(action)\n",
    "            \n",
    "            if terminated:\n",
    "                self.stimulate_neurons(reward)\n",
    "\n",
    "            self.state = next_state\n",
    "            self.total_reward += reward\n",
    "        \n",
    "        print(f\"Episode finished with total reward: {self.total_reward}\")\n",
    "        return self.total_reward\n",
    "\n",
    "    def stimulate_neurons(reward):\n",
    "        if reward == 0:\n",
    "            return \"punish\"        \n",
    "        return \"reward\"\n"
   ]
  },
  {
   "cell_type": "code",
   "execution_count": null,
   "metadata": {},
   "outputs": [],
   "source": []
  }
 ],
 "metadata": {
  "kernelspec": {
   "display_name": "base",
   "language": "python",
   "name": "python3"
  },
  "language_info": {
   "codemirror_mode": {
    "name": "ipython",
    "version": 3
   },
   "file_extension": ".py",
   "mimetype": "text/x-python",
   "name": "python",
   "nbconvert_exporter": "python",
   "pygments_lexer": "ipython3",
   "version": "3.12.2"
  },
  "orig_nbformat": 4
 },
 "nbformat": 4,
 "nbformat_minor": 2
}
