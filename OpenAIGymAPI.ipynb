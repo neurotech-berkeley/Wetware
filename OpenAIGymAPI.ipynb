{
 "cells": [
  {
   "cell_type": "code",
   "execution_count": 4,
   "metadata": {},
   "outputs": [],
   "source": [
    "import gym\n",
    "from gym.spaces import Discrete\n",
    "import torch.nn as nn\n",
    "import torch.optim as optim\n",
    "import numpy as np\n",
    "from SocketPrototypes.MCS_Device_Interface import MCS_Device_Interface"
   ]
  },
  {
   "cell_type": "code",
   "execution_count": null,
   "metadata": {},
   "outputs": [],
   "source": [
    "class OpenAIGymAPI:\n",
    "    \n",
    "    def __init__(self):\n",
    "        self.env = 'CartPole-v1'\n",
    "        self.state = None\n",
    "        self.mcs_interface = MCS_Device_Interface()\n",
    "\n",
    "    def initialize_training(self):\n",
    "        self.state = self.env.reset()\n",
    "        self.total_reward = 0\n",
    "        return self.state\n",
    "    \n",
    "    def run_episodes(self, num_episodes):\n",
    "        rewards = []\n",
    "\n",
    "        for episode in range(num_episodes):\n",
    "            print(f\"Running episode {episode + 1}...\")\n",
    "            episode_reward = self.run_episode()\n",
    "            rewards.append(episode_reward)\n",
    "        print(f\"Finished running {num_episodes} episodes.\")\n",
    "        return rewards\n",
    "\n",
    "    def run_episode(self):\n",
    "        self.state = self.initialize_training()\n",
    "        terminated = False\n",
    "\n",
    "        while not terminated:\n",
    "            pole_angle = self.state[2]\n",
    "            self.mcs_interface.send_pole_angle(pole_angle)\n",
    "            action = self.mcs_interface.receive_neuron_action()\n",
    "            next_state, reward, terminated, info = self.env.step(action)\n",
    "            \n",
    "            if terminated:\n",
    "                self.mcs_interface.stimulate_neurons(reward)\n",
    "\n",
    "            self.state = next_state\n",
    "            self.total_reward += reward\n",
    "        \n",
    "        print(f\"Episode finished with total reward: {self.total_reward}\")\n",
    "        return self.total_reward\n",
    "    \n",
    "    def run_single_frame(self, timestep_data):\n",
    "        pole_angle = self.state[2]\n",
    "        pole_angular_velocty = self.state[3]\n",
    "        self.mcs_interface.send_pole_angle(pole_angle)\n",
    "        action = self.mcs_interface.receive_neuron_action(self, time, timestep_data)\n",
    "        observation, reward, terminated, _,  _, _, _ = self.env.step(action)\n",
    "        return observation[2], observation[3], reward, terminated"
   ]
  }
 ],
 "metadata": {
  "kernelspec": {
   "display_name": "base",
   "language": "python",
   "name": "python3"
  },
  "language_info": {
   "codemirror_mode": {
    "name": "ipython",
    "version": 3
   },
   "file_extension": ".py",
   "mimetype": "text/x-python",
   "name": "python",
   "nbconvert_exporter": "python",
   "pygments_lexer": "ipython3",
   "version": "3.12.2"
  },
  "orig_nbformat": 4
 },
 "nbformat": 4,
 "nbformat_minor": 2
}
