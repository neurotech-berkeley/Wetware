{
 "cells": [
  {
   "cell_type": "code",
   "execution_count": 1,
   "id": "13d395fe",
   "metadata": {},
   "outputs": [],
   "source": [
    "import Brian2CartPoleIntegration"
   ]
  },
  {
   "cell_type": "code",
   "execution_count": 11,
   "id": "8a493a6f",
   "metadata": {},
   "outputs": [
    {
     "ename": "AttributeError",
     "evalue": "module 'Brian2CartPoleIntegration' has no attribute 'train'",
     "output_type": "error",
     "traceback": [
      "\u001b[0;31m---------------------------------------------------------------------------\u001b[0m",
      "\u001b[0;31mAttributeError\u001b[0m                            Traceback (most recent call last)",
      "Cell \u001b[0;32mIn[11], line 4\u001b[0m\n\u001b[1;32m      1\u001b[0m integration \u001b[38;5;241m=\u001b[39m Brian2CartPoleIntegration\n\u001b[1;32m      3\u001b[0m \u001b[38;5;66;03m# Train the network\u001b[39;00m\n\u001b[0;32m----> 4\u001b[0m integration\u001b[38;5;241m.\u001b[39mtrain(num_episodes\u001b[38;5;241m=\u001b[39m\u001b[38;5;241m100\u001b[39m, render\u001b[38;5;241m=\u001b[39m\u001b[38;5;28;01mTrue\u001b[39;00m)\n\u001b[1;32m      6\u001b[0m \u001b[38;5;66;03m# Visualize the network activity\u001b[39;00m\n\u001b[1;32m      7\u001b[0m integration\u001b[38;5;241m.\u001b[39mvisualize_network_activity(duration\u001b[38;5;241m=\u001b[39m\u001b[38;5;241m1000\u001b[39m)\n",
      "\u001b[0;31mAttributeError\u001b[0m: module 'Brian2CartPoleIntegration' has no attribute 'train'"
     ]
    }
   ],
   "source": [
    "integration = Brian2CartPoleIntegration\n",
    "\n",
    "# Train the network\n",
    "integration.train(num_episodes=100, render=True)\n",
    "\n",
    "# Visualize the network activity\n",
    "integration.visualize_network_activity(duration=1000)"
   ]
  },
  {
   "cell_type": "code",
   "execution_count": 2,
   "id": "668038a9",
   "metadata": {},
   "outputs": [
    {
     "ename": "AttributeError",
     "evalue": "module 'Brian2CartPoleIntegration' has no attribute 'train'",
     "output_type": "error",
     "traceback": [
      "\u001b[0;31m---------------------------------------------------------------------------\u001b[0m",
      "\u001b[0;31mAttributeError\u001b[0m                            Traceback (most recent call last)",
      "Cell \u001b[0;32mIn[2], line 1\u001b[0m\n\u001b[0;32m----> 1\u001b[0m Brian2CartPoleIntegration\u001b[38;5;241m.\u001b[39mtrain(num_episodes\u001b[38;5;241m=\u001b[39m\u001b[38;5;241m100\u001b[39m, render\u001b[38;5;241m=\u001b[39m\u001b[38;5;28;01mTrue\u001b[39;00m)\n",
      "\u001b[0;31mAttributeError\u001b[0m: module 'Brian2CartPoleIntegration' has no attribute 'train'"
     ]
    }
   ],
   "source": [
    "Brian2CartPoleIntegration.train(num_episodes=100, render=True)"
   ]
  },
  {
   "cell_type": "code",
   "execution_count": null,
   "id": "d650285b",
   "metadata": {},
   "outputs": [],
   "source": []
  }
 ],
 "metadata": {
  "kernelspec": {
   "display_name": "base",
   "language": "python",
   "name": "python3"
  },
  "language_info": {
   "codemirror_mode": {
    "name": "ipython",
    "version": 3
   },
   "file_extension": ".py",
   "mimetype": "text/x-python",
   "name": "python",
   "nbconvert_exporter": "python",
   "pygments_lexer": "ipython3",
   "version": "3.11.8"
  }
 },
 "nbformat": 4,
 "nbformat_minor": 5
}
