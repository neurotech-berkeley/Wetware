{
 "cells": [
  {
   "cell_type": "code",
   "execution_count": 1,
   "id": "13d395fe",
   "metadata": {},
   "outputs": [],
   "source": [
    "from brian_integration import Brian2CartPoleIntegration"
   ]
  },
  {
   "cell_type": "code",
   "execution_count": 2,
   "id": "8a493a6f",
   "metadata": {},
   "outputs": [
    {
     "ename": "NameError",
     "evalue": "name 'clear' is not defined",
     "output_type": "error",
     "traceback": [
      "\u001b[0;31m---------------------------------------------------------------------------\u001b[0m",
      "\u001b[0;31mNameError\u001b[0m                                 Traceback (most recent call last)",
      "Cell \u001b[0;32mIn[2], line 1\u001b[0m\n\u001b[0;32m----> 1\u001b[0m integration \u001b[38;5;241m=\u001b[39m Brian2CartPoleIntegration()\n\u001b[1;32m      3\u001b[0m \u001b[38;5;66;03m# Train the network\u001b[39;00m\n\u001b[1;32m      4\u001b[0m integration\u001b[38;5;241m.\u001b[39mtrain(num_episodes\u001b[38;5;241m=\u001b[39m\u001b[38;5;241m100\u001b[39m, render\u001b[38;5;241m=\u001b[39m\u001b[38;5;28;01mTrue\u001b[39;00m)\n",
      "File \u001b[0;32m~/Desktop/NT@B/Wetware/SocketPrototypes/brian_integration.py:19\u001b[0m, in \u001b[0;36mBrian2CartPoleIntegration.__init__\u001b[0;34m(self)\u001b[0m\n\u001b[1;32m     16\u001b[0m \u001b[38;5;28mself\u001b[39m\u001b[38;5;241m.\u001b[39menv \u001b[38;5;241m=\u001b[39m gym\u001b[38;5;241m.\u001b[39mmake(\u001b[38;5;124m'\u001b[39m\u001b[38;5;124mCartPole-v1\u001b[39m\u001b[38;5;124m'\u001b[39m)\n\u001b[1;32m     18\u001b[0m \u001b[38;5;66;03m# Create the Brian2 MEA simulator\u001b[39;00m\n\u001b[0;32m---> 19\u001b[0m \u001b[38;5;28mself\u001b[39m\u001b[38;5;241m.\u001b[39mmea_simulator \u001b[38;5;241m=\u001b[39m Brian2MEASimulator(num_channels\u001b[38;5;241m=\u001b[39m\u001b[38;5;241m60\u001b[39m, buffer_size\u001b[38;5;241m=\u001b[39m\u001b[38;5;241m100\u001b[39m)\n\u001b[1;32m     21\u001b[0m \u001b[38;5;66;03m# Connect to the simulated device\u001b[39;00m\n\u001b[1;32m     22\u001b[0m \u001b[38;5;28mself\u001b[39m\u001b[38;5;241m.\u001b[39mmea_simulator\u001b[38;5;241m.\u001b[39mconnect_to_device()\n",
      "File \u001b[0;32m~/Desktop/NT@B/Wetware/SocketPrototypes/brian_simulator.py:42\u001b[0m, in \u001b[0;36mBrian2MEASimulator.__init__\u001b[0;34m(self, num_channels, buffer_size)\u001b[0m\n\u001b[1;32m     39\u001b[0m \u001b[38;5;28mself\u001b[39m\u001b[38;5;241m.\u001b[39minput_groups \u001b[38;5;241m=\u001b[39m []\n\u001b[1;32m     41\u001b[0m \u001b[38;5;66;03m# Set up the network\u001b[39;00m\n\u001b[0;32m---> 42\u001b[0m \u001b[38;5;28mself\u001b[39m\u001b[38;5;241m.\u001b[39msetup_network()\n\u001b[1;32m     43\u001b[0m \u001b[38;5;28mself\u001b[39m\u001b[38;5;241m.\u001b[39mdevice_connected \u001b[38;5;241m=\u001b[39m \u001b[38;5;28;01mTrue\u001b[39;00m\n",
      "File \u001b[0;32m~/Desktop/NT@B/Wetware/SocketPrototypes/brian_simulator.py:48\u001b[0m, in \u001b[0;36mBrian2MEASimulator.setup_network\u001b[0;34m(self)\u001b[0m\n\u001b[1;32m     46\u001b[0m \u001b[38;5;250m\u001b[39m\u001b[38;5;124;03m\"\"\"Set up the Brian2 spiking neural network.\"\"\"\u001b[39;00m\n\u001b[1;32m     47\u001b[0m \u001b[38;5;66;03m# Clear any existing objects\u001b[39;00m\n\u001b[0;32m---> 48\u001b[0m clear(erase\u001b[38;5;241m=\u001b[39m\u001b[38;5;28;01mTrue\u001b[39;00m)\n\u001b[1;32m     50\u001b[0m \u001b[38;5;66;03m# Define neuron model - Izhikevich model for biological realism\u001b[39;00m\n\u001b[1;32m     51\u001b[0m neuron_eqs \u001b[38;5;241m=\u001b[39m \u001b[38;5;124m'''\u001b[39m\n\u001b[1;32m     52\u001b[0m \u001b[38;5;124mdv/dt = (0.04*v**2 + 5*v + 140 - u + I)/ms : 1\u001b[39m\n\u001b[1;32m     53\u001b[0m \u001b[38;5;124mdu/dt = (a*(b*v - u))/ms : 1\u001b[39m\n\u001b[0;32m   (...)\u001b[0m\n\u001b[1;32m     58\u001b[0m \u001b[38;5;124md : 1\u001b[39m\n\u001b[1;32m     59\u001b[0m \u001b[38;5;124m\u001b[39m\u001b[38;5;124m'''\u001b[39m\n",
      "\u001b[0;31mNameError\u001b[0m: name 'clear' is not defined"
     ]
    }
   ],
   "source": [
    "integration = Brian2CartPoleIntegration()\n",
    "\n",
    "# Train the network\n",
    "integration.train(num_episodes=100, render=True)\n",
    "\n",
    "# Visualize the network activity\n",
    "integration.visualize_network_activity(duration=1000)"
   ]
  },
  {
   "cell_type": "code",
   "execution_count": 2,
   "id": "668038a9",
   "metadata": {},
   "outputs": [
    {
     "ename": "AttributeError",
     "evalue": "module 'Brian2CartPoleIntegration' has no attribute 'train'",
     "output_type": "error",
     "traceback": [
      "\u001b[0;31m---------------------------------------------------------------------------\u001b[0m",
      "\u001b[0;31mAttributeError\u001b[0m                            Traceback (most recent call last)",
      "Cell \u001b[0;32mIn[2], line 1\u001b[0m\n\u001b[0;32m----> 1\u001b[0m Brian2CartPoleIntegration\u001b[38;5;241m.\u001b[39mtrain(num_episodes\u001b[38;5;241m=\u001b[39m\u001b[38;5;241m100\u001b[39m, render\u001b[38;5;241m=\u001b[39m\u001b[38;5;28;01mTrue\u001b[39;00m)\n",
      "\u001b[0;31mAttributeError\u001b[0m: module 'Brian2CartPoleIntegration' has no attribute 'train'"
     ]
    }
   ],
   "source": [
    "Brian2CartPoleIntegration.train(num_episodes=100, render=True)"
   ]
  },
  {
   "cell_type": "code",
   "execution_count": null,
   "id": "d650285b",
   "metadata": {},
   "outputs": [],
   "source": []
  }
 ],
 "metadata": {
  "kernelspec": {
   "display_name": "base",
   "language": "python",
   "name": "python3"
  },
  "language_info": {
   "codemirror_mode": {
    "name": "ipython",
    "version": 3
   },
   "file_extension": ".py",
   "mimetype": "text/x-python",
   "name": "python",
   "nbconvert_exporter": "python",
   "pygments_lexer": "ipython3",
   "version": "3.11.8"
  }
 },
 "nbformat": 4,
 "nbformat_minor": 5
}
