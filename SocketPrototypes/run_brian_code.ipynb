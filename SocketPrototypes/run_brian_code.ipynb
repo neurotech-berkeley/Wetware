{
 "cells": [
  {
   "cell_type": "code",
   "execution_count": 1,
   "id": "13d395fe",
   "metadata": {},
   "outputs": [],
   "source": [
    "from brian_integration import Brian2CartPoleIntegration"
   ]
  },
  {
   "cell_type": "code",
   "execution_count": 2,
   "id": "8a493a6f",
   "metadata": {},
   "outputs": [
    {
     "name": "stderr",
     "output_type": "stream",
     "text": [
      "WARNING    Removing unsupported flag '-march=native' from compiler flags. [brian2.codegen.cpp_prefs]\n"
     ]
    },
    {
     "ename": "AttributeError",
     "evalue": "'Brian2MEASimulator' object has no attribute 'start_recording'",
     "output_type": "error",
     "traceback": [
      "\u001b[0;31m---------------------------------------------------------------------------\u001b[0m",
      "\u001b[0;31mAttributeError\u001b[0m                            Traceback (most recent call last)",
      "Cell \u001b[0;32mIn[2], line 4\u001b[0m\n\u001b[1;32m      1\u001b[0m integration \u001b[39m=\u001b[39m Brian2CartPoleIntegration()\n\u001b[1;32m      3\u001b[0m \u001b[39m# Train the network\u001b[39;00m\n\u001b[0;32m----> 4\u001b[0m integration\u001b[39m.\u001b[39;49mtrain(num_episodes\u001b[39m=\u001b[39;49m\u001b[39m100\u001b[39;49m, render\u001b[39m=\u001b[39;49m\u001b[39mTrue\u001b[39;49;00m)\n\u001b[1;32m      6\u001b[0m \u001b[39m# Visualize the network activity\u001b[39;00m\n\u001b[1;32m      7\u001b[0m integration\u001b[39m.\u001b[39mvisualize_network_activity(duration\u001b[39m=\u001b[39m\u001b[39m1000\u001b[39m)\n",
      "File \u001b[0;32m~/Documents/GitHub/DBS_lead_segmentation/Wetware/SocketPrototypes/brian_integration.py:48\u001b[0m, in \u001b[0;36mBrian2CartPoleIntegration.train\u001b[0;34m(self, num_episodes, render)\u001b[0m\n\u001b[1;32m     46\u001b[0m \u001b[39mdef\u001b[39;00m \u001b[39mtrain\u001b[39m(\u001b[39mself\u001b[39m, num_episodes\u001b[39m=\u001b[39m\u001b[39m100\u001b[39m, render\u001b[39m=\u001b[39m\u001b[39mFalse\u001b[39;00m):\n\u001b[1;32m     47\u001b[0m     \u001b[39mfor\u001b[39;00m episode \u001b[39min\u001b[39;00m \u001b[39mrange\u001b[39m(num_episodes):\n\u001b[0;32m---> 48\u001b[0m         state \u001b[39m=\u001b[39m \u001b[39mself\u001b[39;49m\u001b[39m.\u001b[39;49minitialize_training()\n\u001b[1;32m     49\u001b[0m         done \u001b[39m=\u001b[39m \u001b[39mFalse\u001b[39;00m\n\u001b[1;32m     51\u001b[0m         \u001b[39mwhile\u001b[39;00m \u001b[39mnot\u001b[39;00m done:\n",
      "File \u001b[0;32m~/Documents/GitHub/DBS_lead_segmentation/Wetware/SocketPrototypes/brian_integration.py:23\u001b[0m, in \u001b[0;36mBrian2CartPoleIntegration.initialize_training\u001b[0;34m(self)\u001b[0m\n\u001b[1;32m     21\u001b[0m \u001b[39mself\u001b[39m\u001b[39m.\u001b[39mtotal_reward \u001b[39m=\u001b[39m \u001b[39m0\u001b[39m\n\u001b[1;32m     22\u001b[0m \u001b[39mself\u001b[39m\u001b[39m.\u001b[39mcurrent_episode_length \u001b[39m=\u001b[39m \u001b[39m0\u001b[39m\n\u001b[0;32m---> 23\u001b[0m \u001b[39mself\u001b[39;49m\u001b[39m.\u001b[39;49mmea_simulator\u001b[39m.\u001b[39;49mstart_recording()\n\u001b[1;32m     24\u001b[0m \u001b[39mreturn\u001b[39;00m state\n",
      "\u001b[0;31mAttributeError\u001b[0m: 'Brian2MEASimulator' object has no attribute 'start_recording'"
     ]
    }
   ],
   "source": [
    "integration = Brian2CartPoleIntegration()\n",
    "\n",
    "# Train the network\n",
    "integration.train(num_episodes=100, render=True)\n",
    "\n",
    "# Visualize the network activity\n",
    "integration.visualize_network_activity(duration=1000)"
   ]
  },
  {
   "cell_type": "code",
   "execution_count": 2,
   "id": "668038a9",
   "metadata": {},
   "outputs": [
    {
     "ename": "AttributeError",
     "evalue": "module 'Brian2CartPoleIntegration' has no attribute 'train'",
     "output_type": "error",
     "traceback": [
      "\u001b[0;31m---------------------------------------------------------------------------\u001b[0m",
      "\u001b[0;31mAttributeError\u001b[0m                            Traceback (most recent call last)",
      "Cell \u001b[0;32mIn[2], line 1\u001b[0m\n\u001b[0;32m----> 1\u001b[0m Brian2CartPoleIntegration\u001b[38;5;241m.\u001b[39mtrain(num_episodes\u001b[38;5;241m=\u001b[39m\u001b[38;5;241m100\u001b[39m, render\u001b[38;5;241m=\u001b[39m\u001b[38;5;28;01mTrue\u001b[39;00m)\n",
      "\u001b[0;31mAttributeError\u001b[0m: module 'Brian2CartPoleIntegration' has no attribute 'train'"
     ]
    }
   ],
   "source": [
    "Brian2CartPoleIntegration.train(num_episodes=100, render=True)"
   ]
  },
  {
   "cell_type": "code",
   "execution_count": null,
   "id": "d650285b",
   "metadata": {},
   "outputs": [],
   "source": []
  }
 ],
 "metadata": {
  "kernelspec": {
   "display_name": "base",
   "language": "python",
   "name": "python3"
  },
  "language_info": {
   "codemirror_mode": {
    "name": "ipython",
    "version": 3
   },
   "file_extension": ".py",
   "mimetype": "text/x-python",
   "name": "python",
   "nbconvert_exporter": "python",
   "pygments_lexer": "ipython3",
   "version": "3.12.1"
  }
 },
 "nbformat": 4,
 "nbformat_minor": 5
}
